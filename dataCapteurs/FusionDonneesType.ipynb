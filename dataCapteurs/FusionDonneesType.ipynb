{
 "cells": [
  {
   "cell_type": "markdown",
   "id": "40dd3ec4",
   "metadata": {},
   "source": [
    "# Script pour fusionner les données capta "
   ]
  },
  {
   "cell_type": "markdown",
   "id": "3361d767",
   "metadata": {},
   "source": [
    "## Si il y a un problème de librairies non installées\n",
    "Tapez !pip install librairie\n",
    "\n",
    "Ex : \n",
    "```bash\n",
    "!pip install pandas\n",
    "```"
   ]
  },
  {
   "cell_type": "code",
   "execution_count": 1,
   "id": "d5273300",
   "metadata": {},
   "outputs": [],
   "source": [
    "import pandas as pd\n",
    "from datetime import datetime, timedelta, time"
   ]
  },
  {
   "cell_type": "markdown",
   "id": "09ef6ed4",
   "metadata": {},
   "source": [
    "## 1 - Import du fichier de données des PM, qui est placé dans le dossier trajet/nom_fichierPM"
   ]
  },
  {
   "cell_type": "code",
   "execution_count": null,
   "id": "68405fc8",
   "metadata": {},
   "outputs": [],
   "source": [
    "dfPM = pd.read_csv('trajet/nom_fichierCM', skiprows=4, delimiter='\\t', header=0, encoding = 'unicode_escape', engine='python', skipfooter=1 )"
   ]
  },
  {
   "cell_type": "code",
   "execution_count": null,
   "id": "fc29eafd",
   "metadata": {},
   "outputs": [],
   "source": [
    "# Pour afficher le tableau, executer cette cellul\n",
    "dfPM"
   ]
  },
  {
   "cell_type": "markdown",
   "id": "74e81d6b",
   "metadata": {},
   "source": [
    "## 2 - Import du fichier de données des CM, placé dans le dossier trajet/nom_fichierCM"
   ]
  },
  {
   "cell_type": "code",
   "execution_count": null,
   "id": "a9ba9309",
   "metadata": {},
   "outputs": [],
   "source": [
    "dfCM = pd.read_csv('trajet/nom_fichierCM', delimiter='\\t', header=0, encoding = 'unicode_escape', engine='python')"
   ]
  },
  {
   "cell_type": "code",
   "execution_count": null,
   "id": "8a709fe7",
   "metadata": {},
   "outputs": [],
   "source": [
    "# Pour afficher le tableau, executer cette cellul\n",
    "dfCM"
   ]
  },
  {
   "cell_type": "markdown",
   "id": "7a447951",
   "metadata": {},
   "source": [
    "## 3 - Fonction qui fusionne les 2 tableaux PM et CM. Les paramètres de la fonction sont :\n",
    "- PM : tableau PM\n",
    "- CM : tableau CM\n",
    "- index_beginning_PM : index de la première ligne à fusionner (0 en principe) du tableau PM\n",
    "- index_end_PM : index de la derniere ligne à fusionner du tableau CM (en principe la derniere, c'est à dire dfPM.shape[0] en principe\n",
    "- index_beginning_CM : index de la première ligne à prendre en compte sur le tableau CM (à regarder dans le tableau)\n",
    "- index_end_CM : index de la dernière ligne à prendre en compte du tableau CM (dernière à priori : dfCM.shape[0])"
   ]
  },
  {
   "cell_type": "code",
   "execution_count": null,
   "id": "fa9e9e72",
   "metadata": {},
   "outputs": [],
   "source": [
    "def mergeDF_PM_CM(PM, CM, index_beginning_PM, index_end_PM, index_beginning_CM, index_end_CM):\n",
    "    dfPMs = pd.concat([PM.iloc[index_beginning_PM:index_end_PM].reset_index(), CM.iloc[index_beginning_CM:index_end_CM].reset_index()], axis = 1)\n",
    "    return dfPMs"
   ]
  },
  {
   "cell_type": "code",
   "execution_count": null,
   "id": "60d43602",
   "metadata": {},
   "outputs": [],
   "source": [
    "# On utilise cette fonction pour les fusionner : (exemple ici)\n",
    "dfPMs = mergeDF_PM_CM(PM, CM, 0, dfPM.shape[0], 3, dfCM.shape[0])"
   ]
  },
  {
   "cell_type": "markdown",
   "id": "2b02a378",
   "metadata": {},
   "source": [
    "## 4 - Import du fichier de données météo"
   ]
  },
  {
   "cell_type": "markdown",
   "id": "8294ecb5",
   "metadata": {},
   "source": [
    "Fichier placé ici : trajet/nom_fichier_meteo"
   ]
  },
  {
   "cell_type": "markdown",
   "id": "7bd8d3b4",
   "metadata": {},
   "source": [
    "### 4.1 Si le fichier météo est potenvol"
   ]
  },
  {
   "cell_type": "code",
   "execution_count": null,
   "id": "f8c7a315",
   "metadata": {},
   "outputs": [],
   "source": [
    "dfWeather = pd.read_csv('trajet/nom_fichier_potenvol', skiprows=14, delimiter=';', header=0)\n",
    "# Remove space at the end of heure\n",
    "dfWeather['heure'] = dfWeather['heure'].apply(lambda x: x.strip())"
   ]
  },
  {
   "cell_type": "code",
   "execution_count": null,
   "id": "5d88efe0",
   "metadata": {},
   "outputs": [],
   "source": [
    "# Pour voir le tableau\n",
    "dfWeather"
   ]
  },
  {
   "cell_type": "markdown",
   "id": "91683b59",
   "metadata": {},
   "source": [
    "### 4.2 - Si le fichier météo vient de termite"
   ]
  },
  {
   "cell_type": "code",
   "execution_count": null,
   "id": "7cace27c",
   "metadata": {},
   "outputs": [],
   "source": [
    "dfWeather = pd.read_csv('trajet/nom_fichier_meteo', skiprows=4, header=None)\n",
    "# On remplit le nom des colonnes\n",
    "dfWeather.set_axis(['Node letter', 'Wind direction', 'Wind speed', 'Pressure', 'Humidity', 'Temperature', 'Dewpoint', 'PRT', 'An I/P 1', 'An I/P 2', 'DigI/P', 'Supply Voltage', 'Status Code', 'End character' ], axis=1, inplace=True)"
   ]
  },
  {
   "cell_type": "code",
   "execution_count": null,
   "id": "cc92604d",
   "metadata": {},
   "outputs": [],
   "source": [
    "# on va chercher l'heure directement dans le fichier termite\n",
    "with open(\"trajet/nom_fichier_meteo\", 'r') as f:\n",
    "    lines = f.readlines()\n",
    "    startTime = lines[2].split(\" \")[-2]\n",
    "    \n",
    "# On rajoute la colonne heure dans le tableau\n",
    "dfWeather['heure'] = datetime.strptime(startTime, \"%H:%M:%S\")"
   ]
  },
  {
   "cell_type": "code",
   "execution_count": null,
   "id": "950d6e82",
   "metadata": {},
   "outputs": [],
   "source": [
    "# On crée une nouvelle colonne d'heure en rajoutant 1sec a chaque ligne\n",
    "results = []\n",
    "k=0\n",
    "for _, row in df.iterrows():\n",
    "    result = datetime.strptime(startTime, \"%H:%M:%S\") + timedelta(seconds=k)\n",
    "    k += 1\n",
    "    results.append(result)\n",
    "df['time2'] = results\n",
    "df['heure'] = df['time2'].dt.time\n",
    "df.drop(['time2'], inplace=True, axis=1)"
   ]
  },
  {
   "cell_type": "markdown",
   "id": "2b63ce21",
   "metadata": {},
   "source": [
    "## 5 - On fusionne le fichier météo avec le tableau des PM-CM"
   ]
  },
  {
   "cell_type": "code",
   "execution_count": null,
   "id": "bcbe1517",
   "metadata": {},
   "outputs": [],
   "source": [
    "dfPMsWithWeather = dfPMs.merge(right=dfWeather, how='left', left_on='time beginning', right_on='heure')"
   ]
  },
  {
   "cell_type": "code",
   "execution_count": null,
   "id": "6c7af965",
   "metadata": {},
   "outputs": [],
   "source": []
  },
  {
   "cell_type": "markdown",
   "id": "64159d36",
   "metadata": {},
   "source": [
    "## 6 - Import des données de géoloc"
   ]
  },
  {
   "cell_type": "markdown",
   "id": "8495225b",
   "metadata": {},
   "source": [
    "### 6.1 - Données au format gpx"
   ]
  },
  {
   "cell_type": "markdown",
   "id": "5b0bd474",
   "metadata": {},
   "source": [
    "On utilise le script gpx_to_csv.py pour les transformer en .csv"
   ]
  },
  {
   "cell_type": "code",
   "execution_count": 3,
   "id": "88a008ea",
   "metadata": {},
   "outputs": [
    {
     "name": "stdout",
     "output_type": "stream",
     "text": [
      "Launching scriptgpx_to_csv.py\r\n",
      "INFO : Launching merge\r\n",
      "Traceback (most recent call last):\r\n",
      "  File \"gpx_to_csv.py\", line 28, in <module>\r\n",
      "    main((sys.argv[1:]))\r\n",
      "  File \"gpx_to_csv.py\", line 15, in main\r\n",
      "    df = Converter(input_file='SO_25-01-22_Pied_3_Aller_Geoloc.gpx').gpx_to_dataframe()\r\n",
      "  File \"/Users/mathis/Desktop/Centrale_Nantes/EI4/Cours/MINT/captation/venv/lib/python3.7/site-packages/gpx_converter/base.py\", line 22, in __init__\r\n",
      "    raise Exception(f\"The file {input_file} does not exist.\")\r\n",
      "Exception: The file SO_25-01-22_Pied_3_Aller_Geoloc.gpx does not exist.\r\n"
     ]
    }
   ],
   "source": [
    "!python gpx_to_csv.py nom_fichier_gpx "
   ]
  },
  {
   "cell_type": "markdown",
   "id": "bb010b56",
   "metadata": {},
   "source": [
    "Un fichier est créé dans datagpxtocsv/nom_fichier_gpx.csv. On peut donc le charger comme il faut :\n"
   ]
  },
  {
   "cell_type": "code",
   "execution_count": null,
   "id": "55f7779d",
   "metadata": {},
   "outputs": [],
   "source": [
    "dfGeoloc = pd.read_csv('datagpxtocsv/nom_fichier.csv', index=False)"
   ]
  },
  {
   "cell_type": "code",
   "execution_count": null,
   "id": "96f52ffa",
   "metadata": {},
   "outputs": [],
   "source": [
    "dfGeoloc.rename(columns={\"time\": \"Timestamp\"}, inplace=True)"
   ]
  },
  {
   "cell_type": "markdown",
   "id": "808d7cee",
   "metadata": {},
   "source": [
    "### 6.2 Sinon on l'importe direct"
   ]
  },
  {
   "cell_type": "code",
   "execution_count": null,
   "id": "8beec602",
   "metadata": {},
   "outputs": [],
   "source": [
    "dfGeoloc = pd.read_csv('nom_du_fichier', delimiter = ',')"
   ]
  },
  {
   "cell_type": "markdown",
   "id": "e362effc",
   "metadata": {},
   "source": [
    "On crée une fonction pour décaler l'heure de début de la géoloc"
   ]
  },
  {
   "cell_type": "code",
   "execution_count": null,
   "id": "43cff322",
   "metadata": {},
   "outputs": [],
   "source": [
    "def createColTimeGeoloc(df, hour, minutes, seconds):\n",
    "    df['timeTmp'] = df['Timestamp'].apply(\n",
    "        lambda x:\n",
    "        datetime.fromisoformat(x) +\n",
    "        timedelta(hours=hour, minutes=minutes, seconds=seconds)\n",
    "    )\n",
    "    df['time'] = df['timeTmp'].apply(lambda x: str(x).split(\" \")[1].split(\"+\")[0])\n",
    "    return df"
   ]
  },
  {
   "cell_type": "code",
   "execution_count": null,
   "id": "d73adb38",
   "metadata": {},
   "outputs": [],
   "source": [
    "dfGeoloc = createColTimeGeoloc(dfGeoloc, 1, 10, 39) # on décale d'1h, 10min et 39sec"
   ]
  },
  {
   "cell_type": "markdown",
   "id": "5918adda",
   "metadata": {},
   "source": [
    "## 7- On fusionne ce nouveau tableau pour obtenir le final"
   ]
  },
  {
   "cell_type": "code",
   "execution_count": null,
   "id": "fbc38774",
   "metadata": {},
   "outputs": [],
   "source": [
    "dfFinal = dfPMsWithWeather.merge(right=dfGeoloc, how='left', left_on='time beginning', right_on='time')"
   ]
  },
  {
   "cell_type": "markdown",
   "id": "e0bc842c",
   "metadata": {},
   "source": [
    "## 8 - On supprime les colonnes inutiles"
   ]
  },
  {
   "cell_type": "code",
   "execution_count": null,
   "id": "5da28bfd",
   "metadata": {},
   "outputs": [],
   "source": [
    "dfFinal2 = dfFinal.drop(['Unnamed: 9', 'Unnamed: 15', 'Timestamp', 'timeTmp', 'time_y', 'Unnamed: 7', 'time_x', 'Chrono', 'heure', 'date end', 'relative time [s]', 'index', 'date', 'POM [Km).', 'CN[P/cm3)', 'PMTot[µm)', 'PM1[µm)', 'PM2.5[µm)', 'PM4[µm)', 'PM10[µm)'], axis=1)"
   ]
  },
  {
   "cell_type": "markdown",
   "id": "7acf5958",
   "metadata": {},
   "source": [
    "## 9 - On rentre une nouvelle colonne du trajet en chaines de caracteres"
   ]
  },
  {
   "cell_type": "code",
   "execution_count": null,
   "id": "d3abbb25",
   "metadata": {},
   "outputs": [],
   "source": [
    "dfFinal2['trajet'] = 'Erdre_aller_0712'"
   ]
  },
  {
   "cell_type": "markdown",
   "id": "f5bf0eaf",
   "metadata": {},
   "source": [
    "## 10 - On le sauvegarde dans un fichier csv "
   ]
  },
  {
   "cell_type": "code",
   "execution_count": null,
   "id": "1ec6a02e",
   "metadata": {},
   "outputs": [],
   "source": [
    "dfFinal2.to_csv('nom_du_nouveau_fichier_qu_on_cree.csv', index=False)"
   ]
  },
  {
   "cell_type": "code",
   "execution_count": null,
   "id": "382c29ad",
   "metadata": {},
   "outputs": [],
   "source": []
  }
 ],
 "metadata": {
  "kernelspec": {
   "display_name": "Python 3 (ipykernel)",
   "language": "python",
   "name": "python3"
  },
  "language_info": {
   "codemirror_mode": {
    "name": "ipython",
    "version": 3
   },
   "file_extension": ".py",
   "mimetype": "text/x-python",
   "name": "python",
   "nbconvert_exporter": "python",
   "pygments_lexer": "ipython3",
   "version": "3.7.2"
  }
 },
 "nbformat": 4,
 "nbformat_minor": 5
}
